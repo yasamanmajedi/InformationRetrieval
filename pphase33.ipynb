{
  "cells": [
    {
      "cell_type": "code",
      "execution_count": null,
      "id": "8a19093a",
      "metadata": {
        "id": "8a19093a"
      },
      "outputs": [],
      "source": [
        "import numpy as np\n",
        "import pandas as pd\n",
        "import random\n",
        "from sklearn.naive_bayes import GaussianNB\n",
        "from sklearn.metrics import accuracy_score\n",
        "from sklearn.svm import SVC\n",
        "from math import sqrt\n",
        "from sklearn import metrics"
      ]
    },
    {
      "cell_type": "code",
      "execution_count": null,
      "id": "6aef3143",
      "metadata": {
        "id": "6aef3143"
      },
      "outputs": [],
      "source": [
        "train_df = pd.read_csv('data/train.csv', index_col=0)\n",
        "test_df = pd.read_csv('data/test.csv', index_col=0)"
      ]
    },
    {
      "cell_type": "code",
      "execution_count": null,
      "id": "ebd9e487",
      "metadata": {
        "id": "ebd9e487",
        "outputId": "3e95c0e0-d3fa-4c8c-e509-1a5ed9c621c4"
      },
      "outputs": [
        {
          "data": {
            "text/html": [
              "<div>\n",
              "<style scoped>\n",
              "    .dataframe tbody tr th:only-of-type {\n",
              "        vertical-align: middle;\n",
              "    }\n",
              "\n",
              "    .dataframe tbody tr th {\n",
              "        vertical-align: top;\n",
              "    }\n",
              "\n",
              "    .dataframe thead th {\n",
              "        text-align: right;\n",
              "    }\n",
              "</style>\n",
              "<table border=\"1\" class=\"dataframe\">\n",
              "  <thead>\n",
              "    <tr style=\"text-align: right;\">\n",
              "      <th></th>\n",
              "      <th>label</th>\n",
              "      <th>title</th>\n",
              "      <th>description</th>\n",
              "    </tr>\n",
              "  </thead>\n",
              "  <tbody>\n",
              "    <tr>\n",
              "      <th>0</th>\n",
              "      <td>2</td>\n",
              "      <td>Fears for T N pension after talks</td>\n",
              "      <td>Unions representing workers at Turner   Newall...</td>\n",
              "    </tr>\n",
              "    <tr>\n",
              "      <th>1</th>\n",
              "      <td>3</td>\n",
              "      <td>The Race is On: Second Private Team Sets Launc...</td>\n",
              "      <td>SPACE.com - TORONTO, Canada -- A second\\team o...</td>\n",
              "    </tr>\n",
              "    <tr>\n",
              "      <th>2</th>\n",
              "      <td>3</td>\n",
              "      <td>Ky. Company Wins Grant to Study Peptides (AP)</td>\n",
              "      <td>AP - A company founded by a chemistry research...</td>\n",
              "    </tr>\n",
              "    <tr>\n",
              "      <th>3</th>\n",
              "      <td>3</td>\n",
              "      <td>Prediction Unit Helps Forecast Wildfires (AP)</td>\n",
              "      <td>AP - It's barely dawn when Mike Fitzpatrick st...</td>\n",
              "    </tr>\n",
              "    <tr>\n",
              "      <th>4</th>\n",
              "      <td>3</td>\n",
              "      <td>Calif. Aims to Limit Farm-Related Smog (AP)</td>\n",
              "      <td>AP - Southern California's smog-fighting agenc...</td>\n",
              "    </tr>\n",
              "  </tbody>\n",
              "</table>\n",
              "</div>"
            ],
            "text/plain": [
              "   label                                              title  \\\n",
              "0      2                  Fears for T N pension after talks   \n",
              "1      3  The Race is On: Second Private Team Sets Launc...   \n",
              "2      3      Ky. Company Wins Grant to Study Peptides (AP)   \n",
              "3      3      Prediction Unit Helps Forecast Wildfires (AP)   \n",
              "4      3        Calif. Aims to Limit Farm-Related Smog (AP)   \n",
              "\n",
              "                                         description  \n",
              "0  Unions representing workers at Turner   Newall...  \n",
              "1  SPACE.com - TORONTO, Canada -- A second\\team o...  \n",
              "2  AP - A company founded by a chemistry research...  \n",
              "3  AP - It's barely dawn when Mike Fitzpatrick st...  \n",
              "4  AP - Southern California's smog-fighting agenc...  "
            ]
          },
          "execution_count": 32,
          "metadata": {},
          "output_type": "execute_result"
        }
      ],
      "source": [
        "test_df.head()"
      ]
    },
    {
      "cell_type": "code",
      "execution_count": null,
      "id": "79e0dcea",
      "metadata": {
        "id": "79e0dcea",
        "outputId": "d2e15df6-0005-4d83-e60a-3061b3d22c58"
      },
      "outputs": [
        {
          "data": {
            "text/plain": [
              "(12105, 7600)"
            ]
          },
          "execution_count": 33,
          "metadata": {},
          "output_type": "execute_result"
        }
      ],
      "source": [
        "len(train_df), len(test_df)"
      ]
    },
    {
      "cell_type": "code",
      "execution_count": null,
      "id": "e5d574b5",
      "metadata": {
        "id": "e5d574b5"
      },
      "outputs": [],
      "source": [
        "import typing as th\n",
        "from sklearn.base import BaseEstimator, TransformerMixin\n",
        "from sklearn.feature_extraction.text import TfidfVectorizer\n",
        "from sklearn.decomposition import TruncatedSVD\n",
        "from sklearn.pipeline import Pipeline\n",
        "import string\n",
        "\n",
        "\n",
        "VECTOR_SIZE = 128\n",
        "NUMERICS = ''.join(str(i) for i in range(10))\n",
        "TRANSLATOR = str.maketrans('', '', NUMERICS + string.punctuation)\n",
        "\n",
        "\n",
        "class Preprocessor(BaseEstimator, TransformerMixin):\n",
        "    def init(self):\n",
        "        pass\n",
        "    \n",
        "    def fit(self, x, y=None, **params):\n",
        "        return self\n",
        "    \n",
        "    def fit_transform(self, x, y=None, **params):\n",
        "        return self.fit(x, y, **params).transform(x)\n",
        "    \n",
        "    def transform(self, x):\n",
        "        x_copy = x.copy()\n",
        "        x_copy['title'] = (x['title'].map(str)).apply(\n",
        "            lambda item: item.translate(TRANSLATOR).lower()                       \n",
        "        )\n",
        "        x_copy['description'] = (x['description'].map(str)).apply(              \n",
        "            lambda item: item.translate(TRANSLATOR).lower()\n",
        "        )\n",
        "        x_copy['combination'] = (x['title'].map(str) + ' ' + x['description'].map(str)).apply(\n",
        "            lambda item: item.translate(TRANSLATOR).lower()                       \n",
        "        )\n",
        "        x_copy['title-split'] = x_copy['title'].apply(lambda item: item.split())                \n",
        "        x_copy['description-split'] = x_copy['description'].apply(lambda item: item.split())\n",
        "        x_copy['combination-split'] = x_copy['combination'].apply(lambda item: item.split())    \n",
        "        return x_copy\n",
        "\n",
        "\n",
        "title_tf_idf_vectorizer = Pipeline([\n",
        "    ('vectorizer', TfidfVectorizer()),\n",
        "    ('pca', TruncatedSVD())\n",
        "])\n",
        "\n",
        "description_tf_idf_vectorizer = Pipeline([\n",
        "    ('vectorizer', TfidfVectorizer()),\n",
        "    ('pca', TruncatedSVD())\n",
        "])\n",
        "\n",
        "combination_tf_idf_vectorizer = Pipeline([\n",
        "    ('vectorizer', TfidfVectorizer()),\n",
        "    ('pca', TruncatedSVD())\n",
        "])\n",
        "\n",
        "\n",
        "class Vectorizer(BaseEstimator, TransformerMixin):\n",
        "    def __init__(self, n_components=VECTOR_SIZE):\n",
        "        self.n_components = n_components\n",
        "        \n",
        "        # title parameters\n",
        "        self.title_tfidf = dict()\n",
        "        \n",
        "        # description parameters\n",
        "        self.description_tfidf = dict()\n",
        "\n",
        "        # combination parameters\n",
        "        self.combination_tfidf = dict()\n",
        "        \n",
        "        # title vectorizers\n",
        "        self.title_tfidf_vectorizer = title_tf_idf_vectorizer\n",
        "        self.title_tfidf_vectorizer.set_params(**self.title_tfidf)\n",
        "        \n",
        "        # description vectorizers\n",
        "        self.description_tfidf_vectorizer = description_tf_idf_vectorizer\n",
        "        self.description_tfidf_vectorizer.set_params(**self.description_tfidf)\n",
        "\n",
        "        # combination vectorizers\n",
        "        self.combination_tfidf_vectorizer = description_tf_idf_vectorizer\n",
        "        self.combination_tfidf_vectorizer.set_params(**self.description_tfidf)\n",
        "        \n",
        "    def fit(self, x, y=None):\n",
        "        # finalizing title parameters\n",
        "        self.title_tfidf['pca__n_components'] = self.title_tfidf.get('pca__n_components', self.n_components)\n",
        "        self.title_tfidf_vectorizer.set_params(**self.title_tfidf)\n",
        "        \n",
        "        # finalizing description parameters\n",
        "        self.description_tfidf['pca__n_components'] = self.description_tfidf.get('pca__n_components', self.n_components)\n",
        "        self.description_tfidf_vectorizer.set_params(**self.description_tfidf)\n",
        "\n",
        "        # finalizing combination parameters\n",
        "        self.combination_tfidf['pca__n_components'] = self.combination_tfidf.get('pca__n_components', self.n_components)\n",
        "        self.combination_tfidf_vectorizer.set_params(**self.combination_tfidf)\n",
        "        \n",
        "        # fitting models\n",
        "        self.title_tfidf_vectorizer.fit(x['title'])\n",
        "        self.description_tfidf_vectorizer.fit(x['description'])\n",
        "        self.combination_tfidf_vectorizer.fit(x['combination'])\n",
        "        return self\n",
        "\n",
        "    def transform(self, x):\n",
        "        x_copy = x.copy()\n",
        "        x_copy['vec_1'] = self.title_tfidf_vectorizer.transform(x['title']).tolist()\n",
        "        x_copy['vec_2'] = self.description_tfidf_vectorizer.transform(x['description']).tolist()\n",
        "        x_copy['vec_3'] = self.combination_tfidf_vectorizer.transform(x['combination']).tolist()\n",
        "        x_copy = x_copy.drop(columns=['title',\n",
        "                                      'description',\n",
        "                                      'title-split',\n",
        "                                      'description-split',\n",
        "                                      'combination',\n",
        "                                      'combination-split'])\n",
        "        return x_copy\n",
        "\n",
        "    def fit_transform(self, x, y=None, **fit_params):\n",
        "        return self.fit(x, y).transform(x)"
      ]
    },
    {
      "cell_type": "code",
      "execution_count": null,
      "id": "d0294734",
      "metadata": {
        "id": "d0294734",
        "outputId": "f5c1a273-f7b0-4bd8-b120-d35dd6dba747"
      },
      "outputs": [
        {
          "data": {
            "text/html": [
              "<div>\n",
              "<style scoped>\n",
              "    .dataframe tbody tr th:only-of-type {\n",
              "        vertical-align: middle;\n",
              "    }\n",
              "\n",
              "    .dataframe tbody tr th {\n",
              "        vertical-align: top;\n",
              "    }\n",
              "\n",
              "    .dataframe thead th {\n",
              "        text-align: right;\n",
              "    }\n",
              "</style>\n",
              "<table border=\"1\" class=\"dataframe\">\n",
              "  <thead>\n",
              "    <tr style=\"text-align: right;\">\n",
              "      <th></th>\n",
              "      <th>label</th>\n",
              "      <th>vec_1</th>\n",
              "      <th>vec_2</th>\n",
              "      <th>vec_3</th>\n",
              "    </tr>\n",
              "  </thead>\n",
              "  <tbody>\n",
              "    <tr>\n",
              "      <th>0</th>\n",
              "      <td>2</td>\n",
              "      <td>[0.08125303122076631, -0.006681200848573755, 0...</td>\n",
              "      <td>[0.2418105510200397, 0.1346270119944103, 0.005...</td>\n",
              "      <td>[0.23430001123054556, 0.22338673759683889, -0....</td>\n",
              "    </tr>\n",
              "    <tr>\n",
              "      <th>1</th>\n",
              "      <td>2</td>\n",
              "      <td>[0.15750196368965114, -0.11621212954560559, -0...</td>\n",
              "      <td>[0.16799963763805328, 0.13156697017078794, 0.0...</td>\n",
              "      <td>[0.1605558979445048, 0.17542592883217825, 0.01...</td>\n",
              "    </tr>\n",
              "  </tbody>\n",
              "</table>\n",
              "</div>"
            ],
            "text/plain": [
              "   label                                              vec_1  \\\n",
              "0      2  [0.08125303122076631, -0.006681200848573755, 0...   \n",
              "1      2  [0.15750196368965114, -0.11621212954560559, -0...   \n",
              "\n",
              "                                               vec_2  \\\n",
              "0  [0.2418105510200397, 0.1346270119944103, 0.005...   \n",
              "1  [0.16799963763805328, 0.13156697017078794, 0.0...   \n",
              "\n",
              "                                               vec_3  \n",
              "0  [0.23430001123054556, 0.22338673759683889, -0....  \n",
              "1  [0.1605558979445048, 0.17542592883217825, 0.01...  "
            ]
          },
          "execution_count": 35,
          "metadata": {},
          "output_type": "execute_result"
        }
      ],
      "source": [
        "preprocessor = Pipeline(steps=[\n",
        "    ('preprocess', Preprocessor()),\n",
        "    ('vectorizer', Vectorizer())\n",
        "])\n",
        "preprocessor.fit(train_df)\n",
        "train_data = preprocessor.transform(train_df).dropna()\n",
        "test_data = preprocessor.transform(test_df).dropna()\n",
        "\n",
        "train_data.head(2)"
      ]
    },
    {
      "cell_type": "code",
      "execution_count": null,
      "id": "58263894",
      "metadata": {
        "id": "58263894"
      },
      "outputs": [],
      "source": [
        "from sklearn.model_selection import train_test_split\n",
        "\n",
        "train_split, val_split = train_test_split(train_data, test_size=0.1)\n",
        "\n",
        "train_split = train_split.dropna()\n",
        "val_split = val_split.dropna()"
      ]
    },
    {
      "cell_type": "code",
      "execution_count": null,
      "id": "c1762d41",
      "metadata": {
        "id": "c1762d41",
        "outputId": "590b758b-56f4-4f77-915c-b983f926550a"
      },
      "outputs": [
        {
          "data": {
            "text/plain": [
              "((10894, 4), (1211, 4))"
            ]
          },
          "execution_count": 37,
          "metadata": {},
          "output_type": "execute_result"
        }
      ],
      "source": [
        "train_split.shape, val_split.shape"
      ]
    },
    {
      "cell_type": "code",
      "execution_count": null,
      "id": "5316ba82",
      "metadata": {
        "id": "5316ba82"
      },
      "outputs": [],
      "source": [
        "#converting datas to numpy because it is easier.\n",
        "trlable = train_split['label'].to_numpy()\n",
        "trvec1 = np.array(train_split ['vec_1'].to_list())\n",
        "trvec2 = np.array(train_split ['vec_2'].to_list())\n",
        "trvec3 = np.array(train_split ['vec_3'].to_list())\n",
        "telable = test_data ['label'].to_numpy()\n",
        "tevec1 = np.array(test_data ['vec_1'].to_list())\n",
        "tevec2 = np.array(test_data ['vec_2'].to_list())\n",
        "tevec3 = np.array(test_data ['vec_3'].to_list())\n",
        "vlable = val_split['label'].to_numpy()\n",
        "vvec1 = np.array(val_split['vec_1'].to_list())\n",
        "vvec2= np.array(val_split['vec_2'].to_list())\n",
        "vvec3 = np.array(val_split['vec_3'].to_list())"
      ]
    },
    {
      "cell_type": "code",
      "execution_count": null,
      "id": "bd13e43a",
      "metadata": {
        "id": "bd13e43a"
      },
      "outputs": [],
      "source": [
        "class Naive_bayes_classifier ():\n",
        "    # here we are going to seperate the given dataset to a subset of data for each class \n",
        "    def seperation(self, X, y):\n",
        "        sep_classes = {}\n",
        "        for i in range(len(X)):\n",
        "            feature_values = X[i]\n",
        "            class_name = y[i]\n",
        "            if class_name not in sep_classes:\n",
        "                sep_classes[class_name] = []\n",
        "            sep_classes[class_name].append(feature_values)\n",
        "        return sep_classes\n",
        "    def neededvalues (self, X):\n",
        "        # here we calculate the standard deviation and mean\n",
        "        for feature in zip(*X):\n",
        "            yield {\n",
        "                'std' : np.std(feature),\n",
        "                'mean' : np.mean(feature)}\n",
        "    def fit (self, X, y):\n",
        "        #training the model\n",
        "        sep_classes = self.seperation(X, y)\n",
        "        self.class_summary = {}\n",
        "        for class_name, feature_values in sep_classes.items():\n",
        "            self.class_summary[class_name] = {\n",
        "                'prior_proba': len(feature_values)/len(X),\n",
        "                'summary': [i for i in self.neededvalues(feature_values)],\n",
        "            }\n",
        "        return self.class_summary\n",
        "    \n",
        "    def gaussian_distribution(self, x, mean, std):\n",
        "        exponent = np.exp(-((x-mean)**2 / (2*std**2)))\n",
        "        return exponent / (np.sqrt(2*np.pi)*std)\n",
        "\n",
        "    \n",
        "    def predict(self, X):\n",
        "       # List of predicted class for each row of data set\n",
        "        \n",
        "        predict = []\n",
        "        for row in X:\n",
        "            joint_proba = {}\n",
        "            for class_name, features in self.class_summary.items():\n",
        "                total_features =  len(features['summary'])\n",
        "                likelihood = 1\n",
        "                for idx in range(total_features):\n",
        "                    feature = row[idx]\n",
        "                    mean = features['summary'][idx]['mean']\n",
        "                    stdev = features['summary'][idx]['std']\n",
        "                    normal_proba = self.gaussian_distribution(feature, mean, stdev)\n",
        "                    likelihood *= normal_proba\n",
        "                prior_proba = features['prior_proba']\n",
        "                joint_proba[class_name] = prior_proba * likelihood\n",
        "\n",
        "            pre = max(joint_proba, key= joint_proba.get)\n",
        "            predict.append(pre)\n",
        "\n",
        "        return predict\n"
      ]
    },
    {
      "cell_type": "code",
      "execution_count": null,
      "id": "23a70442",
      "metadata": {
        "id": "23a70442",
        "outputId": "72b7fb11-0de7-4801-d9ae-411b562265eb"
      },
      "outputs": [
        {
          "name": "stdout",
          "output_type": "stream",
          "text": [
            "0.47894302229562347\n"
          ]
        }
      ],
      "source": [
        "#vec1\n",
        "nv_vec1 =  Naive_bayes_classifier()\n",
        "nv_vec1.fit(trvec1, trlable)\n",
        "predictions = nv_vec1.predict(vvec1)\n",
        "print(accuracy_score(vlable, predictions))\n"
      ]
    },
    {
      "cell_type": "code",
      "execution_count": null,
      "id": "3d009561",
      "metadata": {
        "id": "3d009561",
        "outputId": "50e5ee1d-ada1-4e52-aa5d-2d47b4794a6e"
      },
      "outputs": [
        {
          "name": "stdout",
          "output_type": "stream",
          "text": [
            "0.6837324525185797\n"
          ]
        }
      ],
      "source": [
        "#vec2\n",
        "nv_vec2 =  Naive_bayes_classifier()\n",
        "nv_vec2.fit(trvec2, trlable)\n",
        "predictions = nv_vec2.predict(vvec2)\n",
        "print(accuracy_score(vlable, predictions))"
      ]
    },
    {
      "cell_type": "code",
      "execution_count": null,
      "id": "39cc5ab3",
      "metadata": {
        "id": "39cc5ab3",
        "outputId": "1b3435ca-ea3c-466c-fc68-24769042c464"
      },
      "outputs": [
        {
          "name": "stdout",
          "output_type": "stream",
          "text": [
            "0.6829066886870355\n"
          ]
        }
      ],
      "source": [
        "#vec3\n",
        "nv_vec3 =  Naive_bayes_classifier()\n",
        "nv_vec3.fit(trvec3, trlable)\n",
        "predictions = nv_vec2.predict(vvec3)\n",
        "print(accuracy_score(vlable, predictions))"
      ]
    },
    {
      "cell_type": "code",
      "execution_count": null,
      "id": "5c7347b1",
      "metadata": {
        "id": "5c7347b1"
      },
      "outputs": [],
      "source": [
        "class KNN():\n",
        "    def __init__(self,k,X,y):\n",
        "        self.k = k\n",
        "        self.train_features = X\n",
        "        self.trlable = y \n",
        "    def euclideand(raw1, raw2):\n",
        "        for i in range (len(raw1)-1):\n",
        "            distance = sqrt(((raw1[i]-raw2[i])**2).sum(axis=0))\n",
        "        return distance\n",
        "    def predict(self, X):\n",
        "        predictions = []\n",
        "        for index, pred in enumerate (X):\n",
        "            distance =  KNN.euclideand(self.train_features, pred)\n",
        "            neighbors = list(self.trlable[np.argsort(distance)[:self.k]])\n",
        "            prediction = max(set(neighbors), key = neighbors.count)\n",
        "            predictions.append(prediction)\n",
        "        return predictions"
      ]
    },
    {
      "cell_type": "code",
      "execution_count": null,
      "id": "67bdb68c",
      "metadata": {
        "id": "67bdb68c",
        "outputId": "7debdf44-3c2e-44c7-9179-e08ec3912360"
      },
      "outputs": [
        {
          "ename": "IndexError",
          "evalue": "index 128 is out of bounds for axis 0 with size 128",
          "output_type": "error",
          "traceback": [
            "\u001b[0;31m---------------------------------------------------------------------------\u001b[0m",
            "\u001b[0;31mIndexError\u001b[0m                                Traceback (most recent call last)",
            "\u001b[0;32m/var/folders/l4/jfvbkqp14fd8m7dlf36rj__r0000gn/T/ipykernel_3837/2662474873.py\u001b[0m in \u001b[0;36m<module>\u001b[0;34m\u001b[0m\n\u001b[1;32m      1\u001b[0m \u001b[0mknnvec1\u001b[0m \u001b[0;34m=\u001b[0m \u001b[0mKNN\u001b[0m\u001b[0;34m(\u001b[0m\u001b[0;36m20\u001b[0m\u001b[0;34m,\u001b[0m \u001b[0mtrvec1\u001b[0m\u001b[0;34m,\u001b[0m \u001b[0mtrlable\u001b[0m\u001b[0;34m)\u001b[0m\u001b[0;34m\u001b[0m\u001b[0;34m\u001b[0m\u001b[0m\n\u001b[0;32m----> 2\u001b[0;31m \u001b[0mpredictions\u001b[0m \u001b[0;34m=\u001b[0m \u001b[0mknnvec1\u001b[0m\u001b[0;34m.\u001b[0m\u001b[0mpredict\u001b[0m\u001b[0;34m(\u001b[0m\u001b[0mvvec1\u001b[0m\u001b[0;34m)\u001b[0m\u001b[0;34m\u001b[0m\u001b[0;34m\u001b[0m\u001b[0m\n\u001b[0m\u001b[1;32m      3\u001b[0m \u001b[0mprint\u001b[0m\u001b[0;34m(\u001b[0m\u001b[0maccuracy_score\u001b[0m\u001b[0;34m(\u001b[0m\u001b[0mvlable\u001b[0m\u001b[0;34m,\u001b[0m \u001b[0mpredictions\u001b[0m\u001b[0;34m)\u001b[0m\u001b[0;34m)\u001b[0m\u001b[0;34m\u001b[0m\u001b[0;34m\u001b[0m\u001b[0m\n",
            "\u001b[0;32m/var/folders/l4/jfvbkqp14fd8m7dlf36rj__r0000gn/T/ipykernel_3837/466027840.py\u001b[0m in \u001b[0;36mpredict\u001b[0;34m(self, X)\u001b[0m\n\u001b[1;32m     11\u001b[0m         \u001b[0mpredictions\u001b[0m \u001b[0;34m=\u001b[0m \u001b[0;34m[\u001b[0m\u001b[0;34m]\u001b[0m\u001b[0;34m\u001b[0m\u001b[0;34m\u001b[0m\u001b[0m\n\u001b[1;32m     12\u001b[0m         \u001b[0;32mfor\u001b[0m \u001b[0mindex\u001b[0m\u001b[0;34m,\u001b[0m \u001b[0mpred\u001b[0m \u001b[0;32min\u001b[0m \u001b[0menumerate\u001b[0m \u001b[0;34m(\u001b[0m\u001b[0mX\u001b[0m\u001b[0;34m)\u001b[0m\u001b[0;34m:\u001b[0m\u001b[0;34m\u001b[0m\u001b[0;34m\u001b[0m\u001b[0m\n\u001b[0;32m---> 13\u001b[0;31m             \u001b[0mdistance\u001b[0m \u001b[0;34m=\u001b[0m  \u001b[0mKNN\u001b[0m\u001b[0;34m.\u001b[0m\u001b[0meuclideand\u001b[0m\u001b[0;34m(\u001b[0m\u001b[0mself\u001b[0m\u001b[0;34m.\u001b[0m\u001b[0mtrain_features\u001b[0m\u001b[0;34m,\u001b[0m \u001b[0mpred\u001b[0m\u001b[0;34m)\u001b[0m\u001b[0;34m\u001b[0m\u001b[0;34m\u001b[0m\u001b[0m\n\u001b[0m\u001b[1;32m     14\u001b[0m             \u001b[0mneighbors\u001b[0m \u001b[0;34m=\u001b[0m \u001b[0mlist\u001b[0m\u001b[0;34m(\u001b[0m\u001b[0mself\u001b[0m\u001b[0;34m.\u001b[0m\u001b[0mtrlable\u001b[0m\u001b[0;34m[\u001b[0m\u001b[0mnp\u001b[0m\u001b[0;34m.\u001b[0m\u001b[0margsort\u001b[0m\u001b[0;34m(\u001b[0m\u001b[0mdistance\u001b[0m\u001b[0;34m)\u001b[0m\u001b[0;34m[\u001b[0m\u001b[0;34m:\u001b[0m\u001b[0mself\u001b[0m\u001b[0;34m.\u001b[0m\u001b[0mk\u001b[0m\u001b[0;34m]\u001b[0m\u001b[0;34m]\u001b[0m\u001b[0;34m)\u001b[0m\u001b[0;34m\u001b[0m\u001b[0;34m\u001b[0m\u001b[0m\n\u001b[1;32m     15\u001b[0m             \u001b[0mprediction\u001b[0m \u001b[0;34m=\u001b[0m \u001b[0mmax\u001b[0m\u001b[0;34m(\u001b[0m\u001b[0mset\u001b[0m\u001b[0;34m(\u001b[0m\u001b[0mneighbors\u001b[0m\u001b[0;34m)\u001b[0m\u001b[0;34m,\u001b[0m \u001b[0mkey\u001b[0m \u001b[0;34m=\u001b[0m \u001b[0mneighbors\u001b[0m\u001b[0;34m.\u001b[0m\u001b[0mcount\u001b[0m\u001b[0;34m)\u001b[0m\u001b[0;34m\u001b[0m\u001b[0;34m\u001b[0m\u001b[0m\n",
            "\u001b[0;32m/var/folders/l4/jfvbkqp14fd8m7dlf36rj__r0000gn/T/ipykernel_3837/466027840.py\u001b[0m in \u001b[0;36meuclideand\u001b[0;34m(raw1, raw2)\u001b[0m\n\u001b[1;32m      6\u001b[0m     \u001b[0;32mdef\u001b[0m \u001b[0meuclideand\u001b[0m\u001b[0;34m(\u001b[0m\u001b[0mraw1\u001b[0m\u001b[0;34m,\u001b[0m \u001b[0mraw2\u001b[0m\u001b[0;34m)\u001b[0m\u001b[0;34m:\u001b[0m\u001b[0;34m\u001b[0m\u001b[0;34m\u001b[0m\u001b[0m\n\u001b[1;32m      7\u001b[0m         \u001b[0;32mfor\u001b[0m \u001b[0mi\u001b[0m \u001b[0;32min\u001b[0m \u001b[0mrange\u001b[0m \u001b[0;34m(\u001b[0m\u001b[0mlen\u001b[0m\u001b[0;34m(\u001b[0m\u001b[0mraw1\u001b[0m\u001b[0;34m)\u001b[0m\u001b[0;34m-\u001b[0m\u001b[0;36m1\u001b[0m\u001b[0;34m)\u001b[0m\u001b[0;34m:\u001b[0m\u001b[0;34m\u001b[0m\u001b[0;34m\u001b[0m\u001b[0m\n\u001b[0;32m----> 8\u001b[0;31m             \u001b[0mdistance\u001b[0m \u001b[0;34m=\u001b[0m \u001b[0msqrt\u001b[0m\u001b[0;34m(\u001b[0m\u001b[0;34m(\u001b[0m\u001b[0;34m(\u001b[0m\u001b[0mraw1\u001b[0m\u001b[0;34m[\u001b[0m\u001b[0mi\u001b[0m\u001b[0;34m]\u001b[0m\u001b[0;34m-\u001b[0m\u001b[0mraw2\u001b[0m\u001b[0;34m[\u001b[0m\u001b[0mi\u001b[0m\u001b[0;34m]\u001b[0m\u001b[0;34m)\u001b[0m\u001b[0;34m**\u001b[0m\u001b[0;36m2\u001b[0m\u001b[0;34m)\u001b[0m\u001b[0;34m.\u001b[0m\u001b[0msum\u001b[0m\u001b[0;34m(\u001b[0m\u001b[0maxis\u001b[0m\u001b[0;34m=\u001b[0m\u001b[0;36m0\u001b[0m\u001b[0;34m)\u001b[0m\u001b[0;34m)\u001b[0m\u001b[0;34m\u001b[0m\u001b[0;34m\u001b[0m\u001b[0m\n\u001b[0m\u001b[1;32m      9\u001b[0m         \u001b[0;32mreturn\u001b[0m \u001b[0mdistance\u001b[0m\u001b[0;34m\u001b[0m\u001b[0;34m\u001b[0m\u001b[0m\n\u001b[1;32m     10\u001b[0m     \u001b[0;32mdef\u001b[0m \u001b[0mpredict\u001b[0m\u001b[0;34m(\u001b[0m\u001b[0mself\u001b[0m\u001b[0;34m,\u001b[0m \u001b[0mX\u001b[0m\u001b[0;34m)\u001b[0m\u001b[0;34m:\u001b[0m\u001b[0;34m\u001b[0m\u001b[0;34m\u001b[0m\u001b[0m\n",
            "\u001b[0;31mIndexError\u001b[0m: index 128 is out of bounds for axis 0 with size 128"
          ]
        }
      ],
      "source": [
        "knnvec1 = KNN(20, trvec1, trlable)\n",
        "predictions = knnvec1.predict(vvec1)\n",
        "print(accuracy_score(vlable, predictions))"
      ]
    },
    {
      "cell_type": "code",
      "execution_count": null,
      "id": "aa7cde2f",
      "metadata": {
        "id": "aa7cde2f",
        "outputId": "53562840-1f8a-4a97-e75b-107b8e924cb6"
      },
      "outputs": [
        {
          "ename": "IndexError",
          "evalue": "index 128 is out of bounds for axis 0 with size 128",
          "output_type": "error",
          "traceback": [
            "\u001b[0;31m---------------------------------------------------------------------------\u001b[0m",
            "\u001b[0;31mIndexError\u001b[0m                                Traceback (most recent call last)",
            "\u001b[0;32m/var/folders/l4/jfvbkqp14fd8m7dlf36rj__r0000gn/T/ipykernel_3653/3911661005.py\u001b[0m in \u001b[0;36m<module>\u001b[0;34m\u001b[0m\n\u001b[1;32m      1\u001b[0m \u001b[0mknnvec2\u001b[0m \u001b[0;34m=\u001b[0m \u001b[0mKNN\u001b[0m\u001b[0;34m(\u001b[0m\u001b[0;36m20\u001b[0m\u001b[0;34m,\u001b[0m \u001b[0mtrvec2\u001b[0m\u001b[0;34m,\u001b[0m \u001b[0mtrlable\u001b[0m\u001b[0;34m)\u001b[0m\u001b[0;34m\u001b[0m\u001b[0;34m\u001b[0m\u001b[0m\n\u001b[0;32m----> 2\u001b[0;31m \u001b[0mpredictions\u001b[0m \u001b[0;34m=\u001b[0m \u001b[0mknnvec2\u001b[0m\u001b[0;34m.\u001b[0m\u001b[0mpredict\u001b[0m\u001b[0;34m(\u001b[0m\u001b[0mvvec2\u001b[0m\u001b[0;34m)\u001b[0m\u001b[0;34m\u001b[0m\u001b[0;34m\u001b[0m\u001b[0m\n\u001b[0m\u001b[1;32m      3\u001b[0m \u001b[0mprint\u001b[0m\u001b[0;34m(\u001b[0m\u001b[0maccuracy_score\u001b[0m\u001b[0;34m(\u001b[0m\u001b[0mvlable\u001b[0m\u001b[0;34m,\u001b[0m \u001b[0mpredictions\u001b[0m\u001b[0;34m)\u001b[0m\u001b[0;34m)\u001b[0m\u001b[0;34m\u001b[0m\u001b[0;34m\u001b[0m\u001b[0m\n",
            "\u001b[0;32m/var/folders/l4/jfvbkqp14fd8m7dlf36rj__r0000gn/T/ipykernel_3653/466027840.py\u001b[0m in \u001b[0;36mpredict\u001b[0;34m(self, X)\u001b[0m\n\u001b[1;32m     11\u001b[0m         \u001b[0mpredictions\u001b[0m \u001b[0;34m=\u001b[0m \u001b[0;34m[\u001b[0m\u001b[0;34m]\u001b[0m\u001b[0;34m\u001b[0m\u001b[0;34m\u001b[0m\u001b[0m\n\u001b[1;32m     12\u001b[0m         \u001b[0;32mfor\u001b[0m \u001b[0mindex\u001b[0m\u001b[0;34m,\u001b[0m \u001b[0mpred\u001b[0m \u001b[0;32min\u001b[0m \u001b[0menumerate\u001b[0m \u001b[0;34m(\u001b[0m\u001b[0mX\u001b[0m\u001b[0;34m)\u001b[0m\u001b[0;34m:\u001b[0m\u001b[0;34m\u001b[0m\u001b[0;34m\u001b[0m\u001b[0m\n\u001b[0;32m---> 13\u001b[0;31m             \u001b[0mdistance\u001b[0m \u001b[0;34m=\u001b[0m  \u001b[0mKNN\u001b[0m\u001b[0;34m.\u001b[0m\u001b[0meuclideand\u001b[0m\u001b[0;34m(\u001b[0m\u001b[0mself\u001b[0m\u001b[0;34m.\u001b[0m\u001b[0mtrain_features\u001b[0m\u001b[0;34m,\u001b[0m \u001b[0mpred\u001b[0m\u001b[0;34m)\u001b[0m\u001b[0;34m\u001b[0m\u001b[0;34m\u001b[0m\u001b[0m\n\u001b[0m\u001b[1;32m     14\u001b[0m             \u001b[0mneighbors\u001b[0m \u001b[0;34m=\u001b[0m \u001b[0mlist\u001b[0m\u001b[0;34m(\u001b[0m\u001b[0mself\u001b[0m\u001b[0;34m.\u001b[0m\u001b[0mtrlable\u001b[0m\u001b[0;34m[\u001b[0m\u001b[0mnp\u001b[0m\u001b[0;34m.\u001b[0m\u001b[0margsort\u001b[0m\u001b[0;34m(\u001b[0m\u001b[0mdistance\u001b[0m\u001b[0;34m)\u001b[0m\u001b[0;34m[\u001b[0m\u001b[0;34m:\u001b[0m\u001b[0mself\u001b[0m\u001b[0;34m.\u001b[0m\u001b[0mk\u001b[0m\u001b[0;34m]\u001b[0m\u001b[0;34m]\u001b[0m\u001b[0;34m)\u001b[0m\u001b[0;34m\u001b[0m\u001b[0;34m\u001b[0m\u001b[0m\n\u001b[1;32m     15\u001b[0m             \u001b[0mprediction\u001b[0m \u001b[0;34m=\u001b[0m \u001b[0mmax\u001b[0m\u001b[0;34m(\u001b[0m\u001b[0mset\u001b[0m\u001b[0;34m(\u001b[0m\u001b[0mneighbors\u001b[0m\u001b[0;34m)\u001b[0m\u001b[0;34m,\u001b[0m \u001b[0mkey\u001b[0m \u001b[0;34m=\u001b[0m \u001b[0mneighbors\u001b[0m\u001b[0;34m.\u001b[0m\u001b[0mcount\u001b[0m\u001b[0;34m)\u001b[0m\u001b[0;34m\u001b[0m\u001b[0;34m\u001b[0m\u001b[0m\n",
            "\u001b[0;32m/var/folders/l4/jfvbkqp14fd8m7dlf36rj__r0000gn/T/ipykernel_3653/466027840.py\u001b[0m in \u001b[0;36meuclideand\u001b[0;34m(raw1, raw2)\u001b[0m\n\u001b[1;32m      6\u001b[0m     \u001b[0;32mdef\u001b[0m \u001b[0meuclideand\u001b[0m\u001b[0;34m(\u001b[0m\u001b[0mraw1\u001b[0m\u001b[0;34m,\u001b[0m \u001b[0mraw2\u001b[0m\u001b[0;34m)\u001b[0m\u001b[0;34m:\u001b[0m\u001b[0;34m\u001b[0m\u001b[0;34m\u001b[0m\u001b[0m\n\u001b[1;32m      7\u001b[0m         \u001b[0;32mfor\u001b[0m \u001b[0mi\u001b[0m \u001b[0;32min\u001b[0m \u001b[0mrange\u001b[0m \u001b[0;34m(\u001b[0m\u001b[0mlen\u001b[0m\u001b[0;34m(\u001b[0m\u001b[0mraw1\u001b[0m\u001b[0;34m)\u001b[0m\u001b[0;34m-\u001b[0m\u001b[0;36m1\u001b[0m\u001b[0;34m)\u001b[0m\u001b[0;34m:\u001b[0m\u001b[0;34m\u001b[0m\u001b[0;34m\u001b[0m\u001b[0m\n\u001b[0;32m----> 8\u001b[0;31m             \u001b[0mdistance\u001b[0m \u001b[0;34m=\u001b[0m \u001b[0msqrt\u001b[0m\u001b[0;34m(\u001b[0m\u001b[0;34m(\u001b[0m\u001b[0;34m(\u001b[0m\u001b[0mraw1\u001b[0m\u001b[0;34m[\u001b[0m\u001b[0mi\u001b[0m\u001b[0;34m]\u001b[0m\u001b[0;34m-\u001b[0m\u001b[0mraw2\u001b[0m\u001b[0;34m[\u001b[0m\u001b[0mi\u001b[0m\u001b[0;34m]\u001b[0m\u001b[0;34m)\u001b[0m\u001b[0;34m**\u001b[0m\u001b[0;36m2\u001b[0m\u001b[0;34m)\u001b[0m\u001b[0;34m.\u001b[0m\u001b[0msum\u001b[0m\u001b[0;34m(\u001b[0m\u001b[0maxis\u001b[0m\u001b[0;34m=\u001b[0m\u001b[0;36m0\u001b[0m\u001b[0;34m)\u001b[0m\u001b[0;34m)\u001b[0m\u001b[0;34m\u001b[0m\u001b[0;34m\u001b[0m\u001b[0m\n\u001b[0m\u001b[1;32m      9\u001b[0m         \u001b[0;32mreturn\u001b[0m \u001b[0mdistance\u001b[0m\u001b[0;34m\u001b[0m\u001b[0;34m\u001b[0m\u001b[0m\n\u001b[1;32m     10\u001b[0m     \u001b[0;32mdef\u001b[0m \u001b[0mpredict\u001b[0m\u001b[0;34m(\u001b[0m\u001b[0mself\u001b[0m\u001b[0;34m,\u001b[0m \u001b[0mX\u001b[0m\u001b[0;34m)\u001b[0m\u001b[0;34m:\u001b[0m\u001b[0;34m\u001b[0m\u001b[0;34m\u001b[0m\u001b[0m\n",
            "\u001b[0;31mIndexError\u001b[0m: index 128 is out of bounds for axis 0 with size 128"
          ]
        }
      ],
      "source": [
        "knnvec2 = KNN(20, trvec2, trlable)\n",
        "predictions = knnvec2.predict(vvec2)\n",
        "print(accuracy_score(vlable, predictions))"
      ]
    },
    {
      "cell_type": "code",
      "execution_count": null,
      "id": "8cdae1f2",
      "metadata": {
        "id": "8cdae1f2",
        "outputId": "933d51a5-b1d0-4cd0-a42b-08eb8abd3322"
      },
      "outputs": [
        {
          "name": "stdout",
          "output_type": "stream",
          "text": [
            "0.2336911643270025\n"
          ]
        }
      ],
      "source": [
        "knnvec3 = KNN(20, trvec3, trlable)\n",
        "predictions = knnvec3.predict(vvec3)\n",
        "print(accuracy_score(vlable, predictions))"
      ]
    },
    {
      "cell_type": "code",
      "execution_count": null,
      "id": "4427ff42",
      "metadata": {
        "id": "4427ff42",
        "outputId": "32035c58-2e9e-4d25-89f6-c69eeb7471d7"
      },
      "outputs": [
        {
          "name": "stdout",
          "output_type": "stream",
          "text": [
            "0.7027250206440958\n"
          ]
        }
      ],
      "source": [
        "svmvec1 = SVC()\n",
        "svmvec1.fit(trvec1, trlable)\n",
        "predictions = svmvec1.predict(vvec1)\n",
        "print(accuracy_score(vlable, predictions))"
      ]
    },
    {
      "cell_type": "code",
      "execution_count": null,
      "id": "ffd7b882",
      "metadata": {
        "id": "ffd7b882",
        "outputId": "cdd54b15-4f40-4ca1-f584-c458f381c25d"
      },
      "outputs": [
        {
          "name": "stdout",
          "output_type": "stream",
          "text": [
            "0.8554913294797688\n"
          ]
        }
      ],
      "source": [
        "svmvec2 = SVC()\n",
        "svmvec2.fit(trvec2, trlable)\n",
        "predictions = svmvec2.predict(vvec2)\n",
        "print(accuracy_score(vlable, predictions))"
      ]
    },
    {
      "cell_type": "code",
      "execution_count": null,
      "id": "ac9e3bed",
      "metadata": {
        "id": "ac9e3bed",
        "outputId": "ef5d11d1-6a61-47df-ab06-87e84e40ca3d"
      },
      "outputs": [
        {
          "name": "stdout",
          "output_type": "stream",
          "text": [
            "0.8678777869529315\n"
          ]
        }
      ],
      "source": [
        "svmvec3 = SVC()\n",
        "svmvec3.fit(trvec3, trlable)\n",
        "predictions = svmvec3.predict(vvec3)\n",
        "print(accuracy_score(vlable, predictions))"
      ]
    },
    {
      "cell_type": "code",
      "execution_count": null,
      "id": "afa8cd23",
      "metadata": {
        "id": "afa8cd23"
      },
      "outputs": [],
      "source": [
        "#evaluation process\n",
        "def score(true,predictions):\n",
        "    confusion_matrix= metrics.confusion_matrix(true, predictions)\n",
        "    print(f\"'accuracy': {metrics.accuracy_score(true, predictions)}\")\n",
        "    print(f\"'precision': {metrics.precision_score(true, predictions, average='macro')}\")\n",
        "    print(f\"'recall': {metrics.recall_score(true, predictions, average='macro')}\")\n",
        "    print(f\"'f1': {metrics.f1_score(true, predictions, average='macro')}\")\n",
        "    print(f\"confusion_matrix: {confusion_matrix}\")\n",
        "    return score\n",
        "        \n"
      ]
    },
    {
      "cell_type": "code",
      "execution_count": null,
      "id": "5ee1cca9",
      "metadata": {
        "id": "5ee1cca9",
        "outputId": "8285c981-af06-482f-ea2d-bdbcaedfbd89"
      },
      "outputs": [
        {
          "name": "stdout",
          "output_type": "stream",
          "text": [
            "for naive bayes:\n",
            "'accuracy': 0.6617105263157895\n",
            "'precision': 0.6863368875653079\n",
            "'recall': 0.6617105263157895\n",
            "'f1': 0.6596897190508548\n",
            "confusion_matrix: [[1103  548  119  130]\n",
            " [ 145 1646   74   35]\n",
            " [ 103  339 1073  385]\n",
            " [  80  403  210 1207]]\n",
            "<function score at 0x7f7dda27f8b0>\n",
            "for SVM:\n",
            "'accuracy': 0.8626315789473684\n",
            "'precision': 0.8621943157507272\n",
            "'recall': 0.8626315789473684\n",
            "'f1': 0.8622266145519871\n",
            "confusion_matrix: [[1644   86   93   77]\n",
            " [  46 1795   24   35]\n",
            " [  89   38 1537  236]\n",
            " [  91   55  174 1580]]\n",
            "<function score at 0x7f7dda27f8b0>\n"
          ]
        }
      ],
      "source": [
        "print(\"for naive bayes:\")\n",
        "predictions = nv_vec3.predict(tevec3)\n",
        "print(score(telable, predictions))\n",
        "#predictions = knnvec3.predict(tevec3)\n",
        "#print(score(telable, predictions))\n",
        "print(\"for SVM:\")\n",
        "predictions = svmvec3.predict(tevec3)\n",
        "print(score(telable, predictions))\n"
      ]
    },
    {
      "cell_type": "code",
      "execution_count": null,
      "id": "748c2869",
      "metadata": {
        "id": "748c2869"
      },
      "outputs": [],
      "source": [
        "def purity_score(y_true, y_pred):\n",
        "    contingency_matrix = metrics.cluster.contingency_matrix(y_true, y_pred)\n",
        "    return np.sum(np.amax(contingency_matrix, axis=0)) / np.sum(contingency_matrix) "
      ]
    },
    {
      "cell_type": "code",
      "execution_count": null,
      "id": "9f4ce45b",
      "metadata": {
        "id": "9f4ce45b",
        "outputId": "41e6c586-460d-4616-c73e-8b1ca772e48f"
      },
      "outputs": [
        {
          "name": "stdout",
          "output_type": "stream",
          "text": [
            "0.29975227085053674\n"
          ]
        }
      ],
      "source": [
        "from sklearn.cluster import KMeans\n",
        "score = []\n",
        "Cluster = KMeans(n_clusters=4)\n",
        "Cluster.fit(trvec1)\n",
        "score.append(purity_score(vlable, Cluster.predict(vvec1)))\n",
        "print(sum(score) / len(score))"
      ]
    },
    {
      "cell_type": "code",
      "execution_count": null,
      "id": "dea12992",
      "metadata": {
        "id": "dea12992",
        "outputId": "90c44b05-1855-49e0-f9a7-efbb008b33da"
      },
      "outputs": [
        {
          "name": "stdout",
          "output_type": "stream",
          "text": [
            "0.467382328654005\n"
          ]
        }
      ],
      "source": [
        "from sklearn.cluster import KMeans\n",
        "score = []\n",
        "Cluster = KMeans(n_clusters=4)\n",
        "Cluster.fit(trvec2)\n",
        "score.append(purity_score(vlable, Cluster.predict(vvec2)))\n",
        "print(sum(score) / len(score))"
      ]
    },
    {
      "cell_type": "code",
      "execution_count": null,
      "id": "6d5be997",
      "metadata": {
        "id": "6d5be997",
        "outputId": "75915acb-bc5c-4ea2-c93e-0ad989540612"
      },
      "outputs": [
        {
          "name": "stdout",
          "output_type": "stream",
          "text": [
            "0.4186622625928984\n"
          ]
        }
      ],
      "source": [
        "from sklearn.cluster import KMeans\n",
        "score = []\n",
        "Cluster = KMeans(n_clusters=4)\n",
        "Cluster.fit(trvec3)\n",
        "score.append(purity_score(vlable, Cluster.predict(vvec3)))\n",
        "print(sum(score) / len(score))"
      ]
    },
    {
      "cell_type": "code",
      "execution_count": null,
      "id": "9b31359f",
      "metadata": {
        "id": "9b31359f",
        "outputId": "c3a361df-80eb-45c2-976c-e0f1aea85d5b"
      },
      "outputs": [
        {
          "name": "stdout",
          "output_type": "stream",
          "text": [
            "0.30163392693225627\n",
            "0.4746649531852396\n",
            "0.41949697080961995\n"
          ]
        }
      ],
      "source": [
        "from sklearn.cluster import AgglomerativeClustering\n",
        "pred_lable = AgglomerativeClustering(n_clusters=4).fit_predict(trvec1)\n",
        "print(purity_score(trlable, pred_lable))\n",
        "pred_lable = AgglomerativeClustering(n_clusters=4).fit_predict(trvec2)\n",
        "print(purity_score(trlable, pred_lable))\n",
        "pred_lable = AgglomerativeClustering(n_clusters=4).fit_predict(trvec3)\n",
        "print(purity_score(trlable, pred_lable))"
      ]
    },
    {
      "cell_type": "code",
      "execution_count": null,
      "id": "6a27e9fe",
      "metadata": {
        "id": "6a27e9fe"
      },
      "outputs": [],
      "source": [
        "from sklearn.metrics.cluster import adjusted_rand_score\n",
        "model = KMeans(n_clusters=4)\n",
        "model.fit(trvec2)\n",
        "purity_score(telable, model.predict(tevec2))\n",
        "adjusted_rand_score(telable, model.predict(tevec2))\n",
        "print('Purity Score for KMeans Clustering:', purity_score(telable, model.predict(tevec2)))\n",
        "print('Adjusted Rand Index for KMeans Clustering:', adjusted_rand_score(telable, model.predict(tevec2)))\n",
        "\n",
        "pred_labels = AgglomerativeClustering(n_clusters=4).fit_predict(tevec2)\n",
        "print('Purity Score for KMeans Clustering:', purity_score(tevec2, pred_labels))\n",
        "print('Adjusted Rand Index for KMeans Clustering:', adjusted_rand_score(telabel, pred_labels))"
      ]
    }
  ],
  "metadata": {
    "kernelspec": {
      "display_name": "Python 3 (ipykernel)",
      "language": "python",
      "name": "python3"
    },
    "language_info": {
      "codemirror_mode": {
        "name": "ipython",
        "version": 3
      },
      "file_extension": ".py",
      "mimetype": "text/x-python",
      "name": "python",
      "nbconvert_exporter": "python",
      "pygments_lexer": "ipython3",
      "version": "3.9.7"
    },
    "colab": {
      "name": "pphase33.ipynb",
      "provenance": [],
      "collapsed_sections": []
    }
  },
  "nbformat": 4,
  "nbformat_minor": 5
}