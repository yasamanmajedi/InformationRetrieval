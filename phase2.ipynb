{
 "cells": [
  {
   "cell_type": "code",
   "execution_count": 30,
   "id": "46a255da",
   "metadata": {},
   "outputs": [],
   "source": [
    "import math\n",
    "import os\n",
    "import urllib.request\n",
    "import zipfile\n",
    "from collections import Counter\n",
    "from tqdm import tqdm\n",
    "from pathlib import Path\n",
    "import pathlib\n",
    "import nltk\n",
    "from nltk import bigrams"
   ]
  },
  {
   "cell_type": "code",
   "execution_count": 31,
   "id": "ef9a8f35",
   "metadata": {},
   "outputs": [
    {
     "name": "stdout",
     "output_type": "stream",
     "text": [
      "Data unzipped to MIR2-data...\n",
      "\n",
      "Directory Structure:\n",
      "MIR2-data/\n",
      "  - dev_set/\n",
      "  - corpus/\n",
      "  - training_set/\n"
     ]
    }
   ],
   "source": [
    "data_dir = 'MIR2-data'\n",
    "with zipfile.ZipFile('{}.zip'.format(data_dir), 'r') as zip_fh:\n",
    "    zip_fh.extractall()\n",
    "print('Data unzipped to {}...\\n'.format(data_dir))\n",
    "print('Directory Structure:')\n",
    "print(data_dir + os.path.sep)\n",
    "for sub_dir in os.listdir(data_dir):\n",
    "    if not sub_dir.startswith('.'):\n",
    "        print('  - ' + sub_dir + os.path.sep)"
   ]
  },
  {
   "cell_type": "code",
   "execution_count": 32,
   "id": "533c2e23",
   "metadata": {},
   "outputs": [],
   "source": [
    "class LanguageModel:\n",
    "    def __init__(self, lambda_=0.1):\n",
    "        data_dir = 'MIR2-data/corpus'\n",
    "        self.lambda_ = lambda_\n",
    "        self.total_num_tokens = 0 \n",
    "        self.unigram_counts = Counter()\n",
    "        self.bigram_counts = Counter()\n",
    "        for filenames in sorted(os.listdir(data_dir)):\n",
    "            with open(os.path.join(data_dir, filenames)) as myfile:\n",
    "                for line in myfile:\n",
    "                    corpus_token = line.split()\n",
    "                    self.total_num_tokens += len(corpus_token)\n",
    "                    self.unigram_counts.update(corpus_token)\n",
    "                    bigram = list(nltk.bigrams(corpus_token))\n",
    "                    self.bigram_counts.update(bigram)"
   ]
  },
  {
   "cell_type": "code",
   "execution_count": 40,
   "id": "92001d20",
   "metadata": {},
   "outputs": [],
   "source": [
    "class LanguageModel(LanguageModel):\n",
    "    def get_unigram_logp(self, unigram):\n",
    "        numerator = self.unigram_counts.get(unigram)\n",
    "        denominator = self.total_num_tokens\n",
    "        if numerator is None: \n",
    "            return 0\n",
    "        pmle_uni = math.log(float(numerator) / float(denominator))\n",
    "        return pmle_uni\n",
    "    def get_bigram_logp(self, w_1, w_2):\n",
    "        numerator = self.bigram_counts.get((w_1, w_2))\n",
    "        denominator = self.unigram_counts.get(w_1)\n",
    "        pmle_bi = 0\n",
    "        if numerator is not None:\n",
    "            pmle_bi = math.log(float(numerator) / float(denominator))\n",
    "        p_bi = self.lambda_ * (self.get_unigram_logp(w_2)) + (1- self.lambda_)* pmle_bi\n",
    "        return p_bi\n",
    "    def get_query_logp(self, query):\n",
    "        query = query.split()\n",
    "        p_q = 0\n",
    "        p_w_0 =  self.get_unigram_logp(query[0])\n",
    "        if len(query) == 1:\n",
    "            return p_w_0\n",
    "        for i in range(0, len(query)-1):\n",
    "            p_query = self.get_bigram_logp(query[i], query[i+1])\n",
    "            print(p_query, query[i], query[i+1])\n",
    "            p_q += p_query\n",
    "        return p_q\n",
    "        \n",
    "        \n",
    "           "
   ]
  },
  {
   "cell_type": "code",
   "execution_count": 42,
   "id": "2341ffe2",
   "metadata": {},
   "outputs": [
    {
     "name": "stdout",
     "output_type": "stream",
     "text": [
      "num. unigrams(\"347071\")\n",
      "num. bigrams(\"4454471\")\n",
      "num. tokens(\"25498340\")\n",
      "-0.8908602215578134 sharif university\n",
      "-0.5259416242604654 sharaf university\n",
      "P(\"sharif university\") == 0.41030264971618385\n",
      "P(\"sharaf university\") == 0.5909986036551534\n",
      "Are you sure \"sharaf university\" should be assigned higher probability than \"sharif university\"?\n",
      "done!\n"
     ]
    }
   ],
   "source": [
    "lm = LanguageModel()\n",
    "\n",
    "print('num. unigrams(\"{}\")'.format(len(lm.unigram_counts))) \n",
    "print('num. bigrams(\"{}\")'.format(len(lm.bigram_counts)))\n",
    "print('num. tokens(\"{}\")'.format(lm.total_num_tokens))\n",
    "\n",
    "\n",
    "# Test a reasonable query with and without typos (you should try your own)!\n",
    "query_wo_typo = \"sharif university\" # write a query without typo\n",
    "query_w_typo = \"sharaf university\"  # write a query with typo\n",
    "\n",
    "p_wo_typo = math.exp(lm.get_query_logp(query_wo_typo))\n",
    "p_w_typo = math.exp(lm.get_query_logp(query_w_typo))\n",
    "print('P(\"{}\") == {}'.format(query_wo_typo, p_wo_typo))\n",
    "print('P(\"{}\") == {}'.format(query_w_typo, p_w_typo))\n",
    "if p_wo_typo <= p_w_typo:\n",
    "    print('Are you sure \"{}\" should be assigned higher probability than \"{}\"?'\n",
    "          .format(query_w_typo, query_wo_typo))\n",
    "    \n",
    "print(\"done!\")"
   ]
  },
  {
   "cell_type": "code",
   "execution_count": 24,
   "id": "d4482aa8",
   "metadata": {},
   "outputs": [],
   "source": [
    "class BaseEditProbabilityModel:\n",
    "    def get_edit_logp(self, edited, original):\n",
    "       # edited_word = edit_function(edited, original)\n",
    "       # print(edited_word)\n",
    "        self.edited = edited\n",
    "        self.original = original\n",
    "        edit_obj = LanguageModel()\n",
    "        prob = edit_obj.get_bigram_logp(self.edited, self.original)\n",
    "        return prob \n",
    "       "
   ]
  },
  {
   "cell_type": "code",
   "execution_count": 21,
   "id": "ec5a8c9a",
   "metadata": {},
   "outputs": [],
   "source": [
    "#epm =  BaseEditProbabilityModel()  # You will define such a subclass later\n",
    "#original = 'user'\n",
    "#edited = 'usre'                      # Edited by transposing 'r' and 'e'\n",
    "#score = epm.get_edit_logp(edited, original)\n",
    "#print(score)"
   ]
  },
  {
   "cell_type": "code",
   "execution_count": 25,
   "id": "8729e96f",
   "metadata": {},
   "outputs": [],
   "source": [
    "class EditProbabilityModelSubclass(BaseEditProbabilityModel):\n",
    "    def edit_function(self,str_1 , str_2):\n",
    "        str_1 = self.edited\n",
    "        str_2 = self.original\n",
    "        a = len(str_1)+1\n",
    "        b = len(str_2)+1\n",
    "        d = [[0 for x in range(a)] for x in range(b)]\n",
    "        for i in range(1, a):\n",
    "            d[i][0] = i\n",
    "        for i in range(1, b):\n",
    "             d[0][i] = i\n",
    "        for i in range(1, a):\n",
    "            for j in range(1, b):\n",
    "                if str_1[i-1] == str_2[j-1]:\n",
    "                    cost = 0\n",
    "                else:\n",
    "                    cost = 1\n",
    "                d[i][j] = min(d[i-1][j] + 1,     # deletion\n",
    "                               d[i][j-1] + 1,     # insertion\n",
    "                               d[i-1][j-1] + cost)  #substitution\n",
    "                if i>1 and j>1 and str_1[i-1] == str_2[j-2] and str_1[i-2] == str_2[j-1]:\n",
    "                        d[i][j] = min(d[i][j],\n",
    "                                   d[i-2][j-2] + 1)  #transposition\n",
    "        return d[i][j]\n",
    "    \n",
    "    "
   ]
  },
  {
   "cell_type": "code",
   "execution_count": 26,
   "id": "3448e73e",
   "metadata": {},
   "outputs": [
    {
     "name": "stdout",
     "output_type": "stream",
     "text": [
      "5.688213428795757e-05\n"
     ]
    }
   ],
   "source": [
    "epm = EditProbabilityModelSubclass()  # You will define such a subclass later\n",
    "original = 'user'\n",
    "edited = 'usre'                      # Edited by transposing 'r' and 'e'\n",
    "score = epm.get_edit_logp(edited, original)\n",
    "print(score)"
   ]
  },
  {
   "cell_type": "code",
   "execution_count": 27,
   "id": "27bf9f8b",
   "metadata": {},
   "outputs": [],
   "source": [
    "class UniformEditProbabilityModel(BaseEditProbabilityModel):\n",
    "    def __init__(self, edit_prob):\n",
    "        self.edit_prob = edit_prob\n",
    "    def get_edit_logp(self, edited, original):\n",
    "        edit_obj = LanguageModel()\n",
    "        prob = edit_obj.get_bigram_logp(edited,original)\n",
    "        return prob \n",
    "       \n",
    "        "
   ]
  },
  {
   "cell_type": "code",
   "execution_count": 28,
   "id": "66de42c9",
   "metadata": {},
   "outputs": [
    {
     "name": "stdout",
     "output_type": "stream",
     "text": [
      "False\n",
      "False\n"
     ]
    }
   ],
   "source": [
    "EDIT_PROB = 0.01\n",
    "epm = UniformEditProbabilityModel(edit_prob=EDIT_PROB)\n",
    "edited, original = 'usre', 'user'\n",
    "print(math.isclose(epm.get_edit_logp(edited, original), math.log(EDIT_PROB)))\n",
    "print(math.isclose(epm.get_edit_logp(original, original), math.log(1. - EDIT_PROB)))\n",
    "\n"
   ]
  }
 ],
 "metadata": {
  "kernelspec": {
   "display_name": "Python 3 (ipykernel)",
   "language": "python",
   "name": "python3"
  },
  "language_info": {
   "codemirror_mode": {
    "name": "ipython",
    "version": 3
   },
   "file_extension": ".py",
   "mimetype": "text/x-python",
   "name": "python",
   "nbconvert_exporter": "python",
   "pygments_lexer": "ipython3",
   "version": "3.9.7"
  }
 },
 "nbformat": 4,
 "nbformat_minor": 5
}
